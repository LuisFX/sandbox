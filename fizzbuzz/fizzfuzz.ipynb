{
  "cells": [
    {
      "cell_type": "markdown",
      "metadata": {},
      "source": [
        "# FizzFuzz Examples"
      ]
    },
    {
      "cell_type": "markdown",
      "metadata": {},
      "source": [
        "## Pattern Match Tuples\n",
        "[Stack Overflow](https://stackoverflow.com/a/23044181/9549817)"
      ]
    },
    {
      "cell_type": "code",
      "execution_count": null,
      "metadata": {},
      "outputs": [],
      "source": [
        "let fizzy num =     \n",
        "   match num%3, num%5 with      \n",
        "      | 0,0 -> \"fizzbuzz\"\n",
        "      | 0,_ -> \"fizz\"\n",
        "      | _,0 -> \"buzz\"\n",
        "      | _,_ -> num.ToString()\n",
        "\n",
        "let prnt = printfn \"%s\"\n",
        "\n",
        "[1..100]\n",
        "  |> List.map fizzy\n",
        "  |> List.iter prnt"
      ]
    },
    {
      "cell_type": "markdown",
      "metadata": {},
      "source": [
        "## Active Pattern\n",
        "\n",
        "[From Stack Overflow](https://stackoverflow.com/a/2429874/9549817)\n",
        "\n"
      ]
    },
    {
      "cell_type": "markdown",
      "metadata": {},
      "source": [
        "  If the value is divisible, then we return 'Some()' which\n",
        "  represents that the active pattern succeeds - the '()' notation\n",
        "  means that we don't return any value from the pattern (if we\n",
        "  returned for example 'Some(i/divisor)' the use would be:\n",
        "      match 6 with \n",
        "      | DivisibleBy 3 res -> .. (res would be asigned value 2)\n",
        "  None means that pattern failed and that the next clause should \n",
        "  be tried (by the match expression)"
      ]
    },
    {
      "cell_type": "code",
      "source": [
        "let (|DivisibleBy|_|) divisor i = \n",
        "  if i % divisor = 0 then Some () else None\n"
      ],
      "outputs": [],
      "execution_count": null,
      "metadata": {
        "collapsed": true,
        "jupyter": {
          "source_hidden": false,
          "outputs_hidden": false
        },
        "nteract": {
          "transient": {
            "deleting": false
          }
        },
        "execution": {
          "iopub.status.busy": "2020-09-11T16:54:28.293Z",
          "iopub.execute_input": "2020-09-11T16:54:28.295Z",
          "iopub.status.idle": "2020-09-11T16:54:28.528Z"
        },
        "tags": []
      }
    },
    {
      "cell_type": "markdown",
      "metadata": {},
      "source": [
        "The `&` operator allows us to run more than one pattern on the argument `i` so this calls `DivisibleBy 3 i` and `DivisibleBy 5 i` and it succeeds (and runs the body) only if both of them return `Some()`"
      ]
    },
    {
      "cell_type": "code",
      "execution_count": null,
      "metadata": {
        "tags": []
      },
      "outputs": [],
      "source": [
        "for i in 1..100 do\n",
        "  match i with\n",
        "  | DivisibleBy 3 re3 & DivisibleBy 5 re5 -> printfn \"FizzBuzz\"\n",
        "  | DivisibleBy 3 res -> printfn \"Fizz\"  \n",
        "  | DivisibleBy 5 res -> printfn \"Buzz\"\n",
        "  | _ -> printfn \"%d\" i"
      ]
    },
    {
      "cell_type": "markdown",
      "metadata": {},
      "source": [
        "## When Guards\n",
        "\n",
        "[Stack Overflow](https://stackoverflow.com/a/2422713/9549817)"
      ]
    },
    {
      "cell_type": "code",
      "execution_count": null,
      "metadata": {
        "tags": []
      },
      "outputs": [],
      "source": [
        "[1..100] \n",
        "|> Seq.map (function\n",
        "    | x when x%5=0 && x%3=0 -> \"FizzBuzz\"\n",
        "    | x when x%3=0 -> \"Fizz\"\n",
        "    | x when x%5=0 -> \"Buzz\"\n",
        "    | x -> string x)\n",
        "|> Seq.iter (printfn \"%s\")"
      ]
    },
    {
      "cell_type": "code",
      "execution_count": null,
      "metadata": {},
      "outputs": [],
      "source": []
    }
  ],
  "metadata": {
    "kernel_info": {
      "name": ".net-fsharp"
    },
    "language_info": {
      "name": "C#",
      "version": "3.7.4-final",
      "mimetype": "text/x-fsharp",
      "file_extension": ".fs",
      "pygments_lexer": "fsharp"
    },
    "kernelspec": {
      "argv": [
        "dotnet",
        "interactive",
        "jupyter",
        "--default-kernel",
        "fsharp",
        "--http-port-range",
        "1000-3000",
        "{connection_file}"
      ],
      "display_name": ".NET (F#)",
      "language": "F#",
      "name": ".net-fsharp"
    },
    "nteract": {
      "version": "0.25.0"
    }
  },
  "nbformat": 4,
  "nbformat_minor": 0
}